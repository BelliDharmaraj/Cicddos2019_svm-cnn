{
  "cells": [
    {
      "cell_type": "code",
      "execution_count": null,
      "metadata": {
        "id": "YCgZFANSVajR"
      },
      "outputs": [],
      "source": [
        "import numpy as np # linear algebra\n",
        "import pandas as pd # data processing, CSV file I/O (e.g. pd.read_csv)\n",
        "import seaborn as sns\n",
        "import matplotlib.pyplot as plt\n",
        "# import warnings\n",
        "import warnings\n",
        "# filter warnings\n",
        "warnings.filterwarnings('ignore')"
      ]
    },
    {
      "cell_type": "code",
      "execution_count": null,
      "metadata": {
        "colab": {
          "base_uri": "https://localhost:8080/",
          "height": 35
        },
        "id": "wuc8ti-cWAtH",
        "outputId": "0203a358-987f-4f1c-a651-c27a89ad1b43"
      },
      "outputs": [
        {
          "data": {
            "application/vnd.google.colaboratory.intrinsic+json": {
              "type": "string"
            },
            "text/plain": [
              "'/content'"
            ]
          },
          "execution_count": 100,
          "metadata": {},
          "output_type": "execute_result"
        }
      ],
      "source": [
        "pwd"
      ]
    },
    {
      "cell_type": "code",
      "execution_count": null,
      "metadata": {
        "id": "MQu5g837Vu57"
      },
      "outputs": [],
      "source": [
        "df = pd.read_csv(\"/content/cicddos2019_dataset.csv\")"
      ]
    },
    {
      "cell_type": "code",
      "execution_count": null,
      "metadata": {
        "colab": {
          "base_uri": "https://localhost:8080/",
          "height": 352
        },
        "id": "ZUebLtIXWF86",
        "outputId": "f87db168-7bb6-45e0-a88d-b0c365882ae6"
      },
      "outputs": [
        {
          "data": {
            "text/html": [
              "\n",
              "  <div id=\"df-f0eda927-901a-4fb1-a316-e6092614fab8\">\n",
              "    <div class=\"colab-df-container\">\n",
              "      <div>\n",
              "<style scoped>\n",
              "    .dataframe tbody tr th:only-of-type {\n",
              "        vertical-align: middle;\n",
              "    }\n",
              "\n",
              "    .dataframe tbody tr th {\n",
              "        vertical-align: top;\n",
              "    }\n",
              "\n",
              "    .dataframe thead th {\n",
              "        text-align: right;\n",
              "    }\n",
              "</style>\n",
              "<table border=\"1\" class=\"dataframe\">\n",
              "  <thead>\n",
              "    <tr style=\"text-align: right;\">\n",
              "      <th></th>\n",
              "      <th>Unnamed: 0</th>\n",
              "      <th>Protocol</th>\n",
              "      <th>Flow Duration</th>\n",
              "      <th>Total Fwd Packets</th>\n",
              "      <th>Total Backward Packets</th>\n",
              "      <th>Fwd Packets Length Total</th>\n",
              "      <th>Bwd Packets Length Total</th>\n",
              "      <th>Fwd Packet Length Max</th>\n",
              "      <th>Fwd Packet Length Min</th>\n",
              "      <th>Fwd Packet Length Mean</th>\n",
              "      <th>...</th>\n",
              "      <th>Active Mean</th>\n",
              "      <th>Active Std</th>\n",
              "      <th>Active Max</th>\n",
              "      <th>Active Min</th>\n",
              "      <th>Idle Mean</th>\n",
              "      <th>Idle Std</th>\n",
              "      <th>Idle Max</th>\n",
              "      <th>Idle Min</th>\n",
              "      <th>Label</th>\n",
              "      <th>Class</th>\n",
              "    </tr>\n",
              "  </thead>\n",
              "  <tbody>\n",
              "    <tr>\n",
              "      <th>0</th>\n",
              "      <td>0</td>\n",
              "      <td>17</td>\n",
              "      <td>216631</td>\n",
              "      <td>6</td>\n",
              "      <td>0</td>\n",
              "      <td>2088.0</td>\n",
              "      <td>0.0</td>\n",
              "      <td>393.0</td>\n",
              "      <td>321.0</td>\n",
              "      <td>348.0</td>\n",
              "      <td>...</td>\n",
              "      <td>0.0</td>\n",
              "      <td>0.0</td>\n",
              "      <td>0.0</td>\n",
              "      <td>0.0</td>\n",
              "      <td>0.0</td>\n",
              "      <td>0.0</td>\n",
              "      <td>0.0</td>\n",
              "      <td>0.0</td>\n",
              "      <td>UDP</td>\n",
              "      <td>Attack</td>\n",
              "    </tr>\n",
              "    <tr>\n",
              "      <th>1</th>\n",
              "      <td>1</td>\n",
              "      <td>17</td>\n",
              "      <td>2</td>\n",
              "      <td>2</td>\n",
              "      <td>0</td>\n",
              "      <td>802.0</td>\n",
              "      <td>0.0</td>\n",
              "      <td>401.0</td>\n",
              "      <td>401.0</td>\n",
              "      <td>401.0</td>\n",
              "      <td>...</td>\n",
              "      <td>0.0</td>\n",
              "      <td>0.0</td>\n",
              "      <td>0.0</td>\n",
              "      <td>0.0</td>\n",
              "      <td>0.0</td>\n",
              "      <td>0.0</td>\n",
              "      <td>0.0</td>\n",
              "      <td>0.0</td>\n",
              "      <td>UDP</td>\n",
              "      <td>Attack</td>\n",
              "    </tr>\n",
              "    <tr>\n",
              "      <th>2</th>\n",
              "      <td>2</td>\n",
              "      <td>17</td>\n",
              "      <td>48</td>\n",
              "      <td>2</td>\n",
              "      <td>0</td>\n",
              "      <td>766.0</td>\n",
              "      <td>0.0</td>\n",
              "      <td>383.0</td>\n",
              "      <td>383.0</td>\n",
              "      <td>383.0</td>\n",
              "      <td>...</td>\n",
              "      <td>0.0</td>\n",
              "      <td>0.0</td>\n",
              "      <td>0.0</td>\n",
              "      <td>0.0</td>\n",
              "      <td>0.0</td>\n",
              "      <td>0.0</td>\n",
              "      <td>0.0</td>\n",
              "      <td>0.0</td>\n",
              "      <td>UDP</td>\n",
              "      <td>Attack</td>\n",
              "    </tr>\n",
              "    <tr>\n",
              "      <th>3</th>\n",
              "      <td>3</td>\n",
              "      <td>17</td>\n",
              "      <td>107319</td>\n",
              "      <td>4</td>\n",
              "      <td>0</td>\n",
              "      <td>1398.0</td>\n",
              "      <td>0.0</td>\n",
              "      <td>369.0</td>\n",
              "      <td>330.0</td>\n",
              "      <td>349.5</td>\n",
              "      <td>...</td>\n",
              "      <td>0.0</td>\n",
              "      <td>0.0</td>\n",
              "      <td>0.0</td>\n",
              "      <td>0.0</td>\n",
              "      <td>0.0</td>\n",
              "      <td>0.0</td>\n",
              "      <td>0.0</td>\n",
              "      <td>0.0</td>\n",
              "      <td>UDP</td>\n",
              "      <td>Attack</td>\n",
              "    </tr>\n",
              "    <tr>\n",
              "      <th>4</th>\n",
              "      <td>4</td>\n",
              "      <td>17</td>\n",
              "      <td>107271</td>\n",
              "      <td>4</td>\n",
              "      <td>0</td>\n",
              "      <td>1438.0</td>\n",
              "      <td>0.0</td>\n",
              "      <td>389.0</td>\n",
              "      <td>330.0</td>\n",
              "      <td>359.5</td>\n",
              "      <td>...</td>\n",
              "      <td>0.0</td>\n",
              "      <td>0.0</td>\n",
              "      <td>0.0</td>\n",
              "      <td>0.0</td>\n",
              "      <td>0.0</td>\n",
              "      <td>0.0</td>\n",
              "      <td>0.0</td>\n",
              "      <td>0.0</td>\n",
              "      <td>UDP</td>\n",
              "      <td>Attack</td>\n",
              "    </tr>\n",
              "  </tbody>\n",
              "</table>\n",
              "<p>5 rows × 80 columns</p>\n",
              "</div>\n",
              "      <button class=\"colab-df-convert\" onclick=\"convertToInteractive('df-f0eda927-901a-4fb1-a316-e6092614fab8')\"\n",
              "              title=\"Convert this dataframe to an interactive table.\"\n",
              "              style=\"display:none;\">\n",
              "        \n",
              "  <svg xmlns=\"http://www.w3.org/2000/svg\" height=\"24px\"viewBox=\"0 0 24 24\"\n",
              "       width=\"24px\">\n",
              "    <path d=\"M0 0h24v24H0V0z\" fill=\"none\"/>\n",
              "    <path d=\"M18.56 5.44l.94 2.06.94-2.06 2.06-.94-2.06-.94-.94-2.06-.94 2.06-2.06.94zm-11 1L8.5 8.5l.94-2.06 2.06-.94-2.06-.94L8.5 2.5l-.94 2.06-2.06.94zm10 10l.94 2.06.94-2.06 2.06-.94-2.06-.94-.94-2.06-.94 2.06-2.06.94z\"/><path d=\"M17.41 7.96l-1.37-1.37c-.4-.4-.92-.59-1.43-.59-.52 0-1.04.2-1.43.59L10.3 9.45l-7.72 7.72c-.78.78-.78 2.05 0 2.83L4 21.41c.39.39.9.59 1.41.59.51 0 1.02-.2 1.41-.59l7.78-7.78 2.81-2.81c.8-.78.8-2.07 0-2.86zM5.41 20L4 18.59l7.72-7.72 1.47 1.35L5.41 20z\"/>\n",
              "  </svg>\n",
              "      </button>\n",
              "      \n",
              "  <style>\n",
              "    .colab-df-container {\n",
              "      display:flex;\n",
              "      flex-wrap:wrap;\n",
              "      gap: 12px;\n",
              "    }\n",
              "\n",
              "    .colab-df-convert {\n",
              "      background-color: #E8F0FE;\n",
              "      border: none;\n",
              "      border-radius: 50%;\n",
              "      cursor: pointer;\n",
              "      display: none;\n",
              "      fill: #1967D2;\n",
              "      height: 32px;\n",
              "      padding: 0 0 0 0;\n",
              "      width: 32px;\n",
              "    }\n",
              "\n",
              "    .colab-df-convert:hover {\n",
              "      background-color: #E2EBFA;\n",
              "      box-shadow: 0px 1px 2px rgba(60, 64, 67, 0.3), 0px 1px 3px 1px rgba(60, 64, 67, 0.15);\n",
              "      fill: #174EA6;\n",
              "    }\n",
              "\n",
              "    [theme=dark] .colab-df-convert {\n",
              "      background-color: #3B4455;\n",
              "      fill: #D2E3FC;\n",
              "    }\n",
              "\n",
              "    [theme=dark] .colab-df-convert:hover {\n",
              "      background-color: #434B5C;\n",
              "      box-shadow: 0px 1px 3px 1px rgba(0, 0, 0, 0.15);\n",
              "      filter: drop-shadow(0px 1px 2px rgba(0, 0, 0, 0.3));\n",
              "      fill: #FFFFFF;\n",
              "    }\n",
              "  </style>\n",
              "\n",
              "      <script>\n",
              "        const buttonEl =\n",
              "          document.querySelector('#df-f0eda927-901a-4fb1-a316-e6092614fab8 button.colab-df-convert');\n",
              "        buttonEl.style.display =\n",
              "          google.colab.kernel.accessAllowed ? 'block' : 'none';\n",
              "\n",
              "        async function convertToInteractive(key) {\n",
              "          const element = document.querySelector('#df-f0eda927-901a-4fb1-a316-e6092614fab8');\n",
              "          const dataTable =\n",
              "            await google.colab.kernel.invokeFunction('convertToInteractive',\n",
              "                                                     [key], {});\n",
              "          if (!dataTable) return;\n",
              "\n",
              "          const docLinkHtml = 'Like what you see? Visit the ' +\n",
              "            '<a target=\"_blank\" href=https://colab.research.google.com/notebooks/data_table.ipynb>data table notebook</a>'\n",
              "            + ' to learn more about interactive tables.';\n",
              "          element.innerHTML = '';\n",
              "          dataTable['output_type'] = 'display_data';\n",
              "          await google.colab.output.renderOutput(dataTable, element);\n",
              "          const docLink = document.createElement('div');\n",
              "          docLink.innerHTML = docLinkHtml;\n",
              "          element.appendChild(docLink);\n",
              "        }\n",
              "      </script>\n",
              "    </div>\n",
              "  </div>\n",
              "  "
            ],
            "text/plain": [
              "   Unnamed: 0  Protocol  Flow Duration  Total Fwd Packets  \\\n",
              "0           0        17         216631                  6   \n",
              "1           1        17              2                  2   \n",
              "2           2        17             48                  2   \n",
              "3           3        17         107319                  4   \n",
              "4           4        17         107271                  4   \n",
              "\n",
              "   Total Backward Packets  Fwd Packets Length Total  Bwd Packets Length Total  \\\n",
              "0                       0                    2088.0                       0.0   \n",
              "1                       0                     802.0                       0.0   \n",
              "2                       0                     766.0                       0.0   \n",
              "3                       0                    1398.0                       0.0   \n",
              "4                       0                    1438.0                       0.0   \n",
              "\n",
              "   Fwd Packet Length Max  Fwd Packet Length Min  Fwd Packet Length Mean  ...  \\\n",
              "0                  393.0                  321.0                   348.0  ...   \n",
              "1                  401.0                  401.0                   401.0  ...   \n",
              "2                  383.0                  383.0                   383.0  ...   \n",
              "3                  369.0                  330.0                   349.5  ...   \n",
              "4                  389.0                  330.0                   359.5  ...   \n",
              "\n",
              "   Active Mean  Active Std  Active Max  Active Min  Idle Mean  Idle Std  \\\n",
              "0          0.0         0.0         0.0         0.0        0.0       0.0   \n",
              "1          0.0         0.0         0.0         0.0        0.0       0.0   \n",
              "2          0.0         0.0         0.0         0.0        0.0       0.0   \n",
              "3          0.0         0.0         0.0         0.0        0.0       0.0   \n",
              "4          0.0         0.0         0.0         0.0        0.0       0.0   \n",
              "\n",
              "   Idle Max  Idle Min  Label   Class  \n",
              "0       0.0       0.0    UDP  Attack  \n",
              "1       0.0       0.0    UDP  Attack  \n",
              "2       0.0       0.0    UDP  Attack  \n",
              "3       0.0       0.0    UDP  Attack  \n",
              "4       0.0       0.0    UDP  Attack  \n",
              "\n",
              "[5 rows x 80 columns]"
            ]
          },
          "execution_count": 102,
          "metadata": {},
          "output_type": "execute_result"
        }
      ],
      "source": [
        "df.head()"
      ]
    },
    {
      "cell_type": "code",
      "execution_count": null,
      "metadata": {
        "colab": {
          "base_uri": "https://localhost:8080/"
        },
        "id": "njU6o1hGWI7m",
        "outputId": "602b08ef-bafb-4795-b95c-4387617919d6"
      },
      "outputs": [
        {
          "data": {
            "text/plain": [
              "Index(['Unnamed: 0', 'Protocol', 'Flow Duration', 'Total Fwd Packets',\n",
              "       'Total Backward Packets', 'Fwd Packets Length Total',\n",
              "       'Bwd Packets Length Total', 'Fwd Packet Length Max',\n",
              "       'Fwd Packet Length Min', 'Fwd Packet Length Mean',\n",
              "       'Fwd Packet Length Std', 'Bwd Packet Length Max',\n",
              "       'Bwd Packet Length Min', 'Bwd Packet Length Mean',\n",
              "       'Bwd Packet Length Std', 'Flow Bytes/s', 'Flow Packets/s',\n",
              "       'Flow IAT Mean', 'Flow IAT Std', 'Flow IAT Max', 'Flow IAT Min',\n",
              "       'Fwd IAT Total', 'Fwd IAT Mean', 'Fwd IAT Std', 'Fwd IAT Max',\n",
              "       'Fwd IAT Min', 'Bwd IAT Total', 'Bwd IAT Mean', 'Bwd IAT Std',\n",
              "       'Bwd IAT Max', 'Bwd IAT Min', 'Fwd PSH Flags', 'Bwd PSH Flags',\n",
              "       'Fwd URG Flags', 'Bwd URG Flags', 'Fwd Header Length',\n",
              "       'Bwd Header Length', 'Fwd Packets/s', 'Bwd Packets/s',\n",
              "       'Packet Length Min', 'Packet Length Max', 'Packet Length Mean',\n",
              "       'Packet Length Std', 'Packet Length Variance', 'FIN Flag Count',\n",
              "       'SYN Flag Count', 'RST Flag Count', 'PSH Flag Count', 'ACK Flag Count',\n",
              "       'URG Flag Count', 'CWE Flag Count', 'ECE Flag Count', 'Down/Up Ratio',\n",
              "       'Avg Packet Size', 'Avg Fwd Segment Size', 'Avg Bwd Segment Size',\n",
              "       'Fwd Avg Bytes/Bulk', 'Fwd Avg Packets/Bulk', 'Fwd Avg Bulk Rate',\n",
              "       'Bwd Avg Bytes/Bulk', 'Bwd Avg Packets/Bulk', 'Bwd Avg Bulk Rate',\n",
              "       'Subflow Fwd Packets', 'Subflow Fwd Bytes', 'Subflow Bwd Packets',\n",
              "       'Subflow Bwd Bytes', 'Init Fwd Win Bytes', 'Init Bwd Win Bytes',\n",
              "       'Fwd Act Data Packets', 'Fwd Seg Size Min', 'Active Mean', 'Active Std',\n",
              "       'Active Max', 'Active Min', 'Idle Mean', 'Idle Std', 'Idle Max',\n",
              "       'Idle Min', 'Label', 'Class'],\n",
              "      dtype='object')"
            ]
          },
          "execution_count": 103,
          "metadata": {},
          "output_type": "execute_result"
        }
      ],
      "source": [
        "df.columns"
      ]
    },
    {
      "cell_type": "code",
      "execution_count": null,
      "metadata": {
        "colab": {
          "base_uri": "https://localhost:8080/"
        },
        "id": "MobFfTwEp22X",
        "outputId": "6ea48c24-3fa9-47c7-c8d3-24711beac414"
      },
      "outputs": [
        {
          "data": {
            "text/plain": [
              "(431371, 80)"
            ]
          },
          "execution_count": 104,
          "metadata": {},
          "output_type": "execute_result"
        }
      ],
      "source": [
        "df.shape"
      ]
    },
    {
      "cell_type": "code",
      "execution_count": null,
      "metadata": {
        "colab": {
          "base_uri": "https://localhost:8080/"
        },
        "id": "Y6SEPI-dWroU",
        "outputId": "93f55720-7ff5-430b-9949-1bf909cb0b9b"
      },
      "outputs": [
        {
          "data": {
            "text/plain": [
              "Unnamed: 0                0\n",
              "Protocol                  0\n",
              "Flow Duration             0\n",
              "Total Fwd Packets         0\n",
              "Total Backward Packets    0\n",
              "                         ..\n",
              "Idle Std                  0\n",
              "Idle Max                  0\n",
              "Idle Min                  0\n",
              "Label                     0\n",
              "Class                     0\n",
              "Length: 80, dtype: int64"
            ]
          },
          "execution_count": 105,
          "metadata": {},
          "output_type": "execute_result"
        }
      ],
      "source": [
        "df.isna().sum()"
      ]
    },
    {
      "cell_type": "code",
      "execution_count": null,
      "metadata": {
        "colab": {
          "base_uri": "https://localhost:8080/"
        },
        "id": "TlB7yB3_WQyc",
        "outputId": "cbd80c5c-5d86-4dc1-bf93-a0e44ebf5a55"
      },
      "outputs": [
        {
          "data": {
            "text/plain": [
              "DrDoS_NTP        121368\n",
              "TFTP              98917\n",
              "Benign            97831\n",
              "Syn               49373\n",
              "UDP               18090\n",
              "DrDoS_UDP         10420\n",
              "UDP-lag            8872\n",
              "MSSQL              8523\n",
              "DrDoS_MSSQL        6212\n",
              "DrDoS_DNS          3669\n",
              "DrDoS_SNMP         2717\n",
              "LDAP               1906\n",
              "DrDoS_LDAP         1440\n",
              "Portmap             685\n",
              "NetBIOS             644\n",
              "DrDoS_NetBIOS       598\n",
              "UDPLag               55\n",
              "WebDDoS              51\n",
              "Name: Label, dtype: int64"
            ]
          },
          "execution_count": 106,
          "metadata": {},
          "output_type": "execute_result"
        }
      ],
      "source": [
        "df.Label.value_counts()"
      ]
    },
    {
      "cell_type": "code",
      "execution_count": null,
      "metadata": {
        "colab": {
          "base_uri": "https://localhost:8080/"
        },
        "id": "u3Bdn1qaWa2s",
        "outputId": "698c863c-a5f1-4519-958e-6ca228a94e5d"
      },
      "outputs": [
        {
          "data": {
            "text/plain": [
              "Attack    333540\n",
              "Benign     97831\n",
              "Name: Class, dtype: int64"
            ]
          },
          "execution_count": 107,
          "metadata": {},
          "output_type": "execute_result"
        }
      ],
      "source": [
        "df.Class.value_counts()"
      ]
    },
    {
      "cell_type": "code",
      "execution_count": null,
      "metadata": {
        "colab": {
          "base_uri": "https://localhost:8080/"
        },
        "id": "RwIaYOggWMnl",
        "outputId": "0f56b9d2-f2eb-4074-f3ab-9647fdd67a22"
      },
      "outputs": [
        {
          "name": "stdout",
          "output_type": "stream",
          "text": [
            "<class 'pandas.core.frame.DataFrame'>\n",
            "RangeIndex: 431371 entries, 0 to 431370\n",
            "Data columns (total 80 columns):\n",
            " #   Column                    Non-Null Count   Dtype  \n",
            "---  ------                    --------------   -----  \n",
            " 0   Unnamed: 0                431371 non-null  int64  \n",
            " 1   Protocol                  431371 non-null  int64  \n",
            " 2   Flow Duration             431371 non-null  int64  \n",
            " 3   Total Fwd Packets         431371 non-null  int64  \n",
            " 4   Total Backward Packets    431371 non-null  int64  \n",
            " 5   Fwd Packets Length Total  431371 non-null  float64\n",
            " 6   Bwd Packets Length Total  431371 non-null  float64\n",
            " 7   Fwd Packet Length Max     431371 non-null  float64\n",
            " 8   Fwd Packet Length Min     431371 non-null  float64\n",
            " 9   Fwd Packet Length Mean    431371 non-null  float64\n",
            " 10  Fwd Packet Length Std     431371 non-null  float64\n",
            " 11  Bwd Packet Length Max     431371 non-null  float64\n",
            " 12  Bwd Packet Length Min     431371 non-null  float64\n",
            " 13  Bwd Packet Length Mean    431371 non-null  float64\n",
            " 14  Bwd Packet Length Std     431371 non-null  float64\n",
            " 15  Flow Bytes/s              431371 non-null  float64\n",
            " 16  Flow Packets/s            431371 non-null  float64\n",
            " 17  Flow IAT Mean             431371 non-null  float64\n",
            " 18  Flow IAT Std              431371 non-null  float64\n",
            " 19  Flow IAT Max              431371 non-null  float64\n",
            " 20  Flow IAT Min              431371 non-null  float64\n",
            " 21  Fwd IAT Total             431371 non-null  float64\n",
            " 22  Fwd IAT Mean              431371 non-null  float64\n",
            " 23  Fwd IAT Std               431371 non-null  float64\n",
            " 24  Fwd IAT Max               431371 non-null  float64\n",
            " 25  Fwd IAT Min               431371 non-null  float64\n",
            " 26  Bwd IAT Total             431371 non-null  float64\n",
            " 27  Bwd IAT Mean              431371 non-null  float64\n",
            " 28  Bwd IAT Std               431371 non-null  float64\n",
            " 29  Bwd IAT Max               431371 non-null  float64\n",
            " 30  Bwd IAT Min               431371 non-null  float64\n",
            " 31  Fwd PSH Flags             431371 non-null  int64  \n",
            " 32  Bwd PSH Flags             431371 non-null  int64  \n",
            " 33  Fwd URG Flags             431371 non-null  int64  \n",
            " 34  Bwd URG Flags             431371 non-null  int64  \n",
            " 35  Fwd Header Length         431371 non-null  int64  \n",
            " 36  Bwd Header Length         431371 non-null  int64  \n",
            " 37  Fwd Packets/s             431371 non-null  float64\n",
            " 38  Bwd Packets/s             431371 non-null  float64\n",
            " 39  Packet Length Min         431371 non-null  float64\n",
            " 40  Packet Length Max         431371 non-null  float64\n",
            " 41  Packet Length Mean        431371 non-null  float64\n",
            " 42  Packet Length Std         431371 non-null  float64\n",
            " 43  Packet Length Variance    431371 non-null  float64\n",
            " 44  FIN Flag Count            431371 non-null  int64  \n",
            " 45  SYN Flag Count            431371 non-null  int64  \n",
            " 46  RST Flag Count            431371 non-null  int64  \n",
            " 47  PSH Flag Count            431371 non-null  int64  \n",
            " 48  ACK Flag Count            431371 non-null  int64  \n",
            " 49  URG Flag Count            431371 non-null  int64  \n",
            " 50  CWE Flag Count            431371 non-null  int64  \n",
            " 51  ECE Flag Count            431371 non-null  int64  \n",
            " 52  Down/Up Ratio             431371 non-null  float64\n",
            " 53  Avg Packet Size           431371 non-null  float64\n",
            " 54  Avg Fwd Segment Size      431371 non-null  float64\n",
            " 55  Avg Bwd Segment Size      431371 non-null  float64\n",
            " 56  Fwd Avg Bytes/Bulk        431371 non-null  int64  \n",
            " 57  Fwd Avg Packets/Bulk      431371 non-null  int64  \n",
            " 58  Fwd Avg Bulk Rate         431371 non-null  int64  \n",
            " 59  Bwd Avg Bytes/Bulk        431371 non-null  int64  \n",
            " 60  Bwd Avg Packets/Bulk      431371 non-null  int64  \n",
            " 61  Bwd Avg Bulk Rate         431371 non-null  int64  \n",
            " 62  Subflow Fwd Packets       431371 non-null  int64  \n",
            " 63  Subflow Fwd Bytes         431371 non-null  int64  \n",
            " 64  Subflow Bwd Packets       431371 non-null  int64  \n",
            " 65  Subflow Bwd Bytes         431371 non-null  int64  \n",
            " 66  Init Fwd Win Bytes        431371 non-null  int64  \n",
            " 67  Init Bwd Win Bytes        431371 non-null  int64  \n",
            " 68  Fwd Act Data Packets      431371 non-null  int64  \n",
            " 69  Fwd Seg Size Min          431371 non-null  int64  \n",
            " 70  Active Mean               431371 non-null  float64\n",
            " 71  Active Std                431371 non-null  float64\n",
            " 72  Active Max                431371 non-null  float64\n",
            " 73  Active Min                431371 non-null  float64\n",
            " 74  Idle Mean                 431371 non-null  float64\n",
            " 75  Idle Std                  431371 non-null  float64\n",
            " 76  Idle Max                  431371 non-null  float64\n",
            " 77  Idle Min                  431371 non-null  float64\n",
            " 78  Label                     431371 non-null  object \n",
            " 79  Class                     431371 non-null  object \n",
            "dtypes: float64(45), int64(33), object(2)\n",
            "memory usage: 263.3+ MB\n"
          ]
        }
      ],
      "source": [
        "df.info()"
      ]
    },
    {
      "cell_type": "code",
      "execution_count": null,
      "metadata": {
        "id": "_qZqjm8tl_e7"
      },
      "outputs": [],
      "source": [
        "#df['Active Max'].fillna(df['Active Max'].mean(),inplace=True)"
      ]
    },
    {
      "cell_type": "markdown",
      "metadata": {
        "id": "aHg4mub4o5oK"
      },
      "source": [
        "### Categorical Missing Values"
      ]
    },
    {
      "cell_type": "code",
      "execution_count": null,
      "metadata": {
        "id": "yaUE-3fuWhOv"
      },
      "outputs": [],
      "source": [
        "df['Label'].fillna('UDP',inplace=True)"
      ]
    },
    {
      "cell_type": "code",
      "execution_count": null,
      "metadata": {
        "colab": {
          "base_uri": "https://localhost:8080/"
        },
        "id": "_fsKdbkrYLqm",
        "outputId": "03346b28-3a7a-4ac8-9a42-42ed1a61713c"
      },
      "outputs": [
        {
          "name": "stdout",
          "output_type": "stream",
          "text": [
            "<class 'pandas.core.series.Series'>\n",
            "RangeIndex: 431371 entries, 0 to 431370\n",
            "Series name: Label\n",
            "Non-Null Count   Dtype \n",
            "--------------   ----- \n",
            "431371 non-null  object\n",
            "dtypes: object(1)\n",
            "memory usage: 3.3+ MB\n"
          ]
        }
      ],
      "source": [
        "df['Label'].info()"
      ]
    },
    {
      "cell_type": "code",
      "execution_count": null,
      "metadata": {
        "id": "QrydtMifYA6n"
      },
      "outputs": [],
      "source": [
        "df['Class'].fillna('Attack',inplace=True)"
      ]
    },
    {
      "cell_type": "code",
      "execution_count": null,
      "metadata": {
        "colab": {
          "base_uri": "https://localhost:8080/"
        },
        "id": "fxSHLLdCYGj4",
        "outputId": "6def082c-d32d-40a5-d8dd-808104abdcd2"
      },
      "outputs": [
        {
          "data": {
            "text/plain": [
              "Unnamed: 0                0\n",
              "Protocol                  0\n",
              "Flow Duration             0\n",
              "Total Fwd Packets         0\n",
              "Total Backward Packets    0\n",
              "                         ..\n",
              "Idle Std                  0\n",
              "Idle Max                  0\n",
              "Idle Min                  0\n",
              "Label                     0\n",
              "Class                     0\n",
              "Length: 80, dtype: int64"
            ]
          },
          "execution_count": 113,
          "metadata": {},
          "output_type": "execute_result"
        }
      ],
      "source": [
        "df.isnull().sum()"
      ]
    },
    {
      "cell_type": "code",
      "execution_count": null,
      "metadata": {
        "colab": {
          "base_uri": "https://localhost:8080/"
        },
        "id": "L4kdQ-TDlkNQ",
        "outputId": "070c8c6d-e086-436a-e382-c36672f43807"
      },
      "outputs": [
        {
          "data": {
            "text/plain": [
              "DrDoS_NTP        121368\n",
              "TFTP              98917\n",
              "Benign            97831\n",
              "Syn               49373\n",
              "UDP               18090\n",
              "DrDoS_UDP         10420\n",
              "UDP-lag            8872\n",
              "MSSQL              8523\n",
              "DrDoS_MSSQL        6212\n",
              "DrDoS_DNS          3669\n",
              "DrDoS_SNMP         2717\n",
              "LDAP               1906\n",
              "DrDoS_LDAP         1440\n",
              "Portmap             685\n",
              "NetBIOS             644\n",
              "DrDoS_NetBIOS       598\n",
              "UDPLag               55\n",
              "WebDDoS              51\n",
              "Name: Label, dtype: int64"
            ]
          },
          "execution_count": 114,
          "metadata": {},
          "output_type": "execute_result"
        }
      ],
      "source": [
        "df[\"Label\"].value_counts()"
      ]
    },
    {
      "cell_type": "markdown",
      "metadata": {
        "id": "-LQKS449om1v"
      },
      "source": [
        "### Label Encoding"
      ]
    },
    {
      "cell_type": "code",
      "execution_count": null,
      "metadata": {
        "id": "50rUqLqNkAhb"
      },
      "outputs": [],
      "source": [
        "from sklearn.preprocessing import LabelEncoder"
      ]
    },
    {
      "cell_type": "code",
      "execution_count": null,
      "metadata": {
        "id": "feQi9Bhknqw-"
      },
      "outputs": [],
      "source": [
        "le = LabelEncoder()"
      ]
    },
    {
      "cell_type": "code",
      "execution_count": null,
      "metadata": {
        "id": "daPz-roCnyDX"
      },
      "outputs": [],
      "source": [
        "df['Label'] = le.fit_transform(df['Label'])"
      ]
    },
    {
      "cell_type": "code",
      "execution_count": null,
      "metadata": {
        "colab": {
          "base_uri": "https://localhost:8080/"
        },
        "id": "HKZR-yuOoRWV",
        "outputId": "ae8ca7f1-e71c-4120-828c-98b5b52c8a5b"
      },
      "outputs": [
        {
          "data": {
            "text/plain": [
              "0         14\n",
              "1         14\n",
              "2         14\n",
              "3         14\n",
              "4         14\n",
              "          ..\n",
              "431366     0\n",
              "431367     0\n",
              "431368     0\n",
              "431369     0\n",
              "431370     0\n",
              "Name: Label, Length: 431371, dtype: int64"
            ]
          },
          "execution_count": 118,
          "metadata": {},
          "output_type": "execute_result"
        }
      ],
      "source": [
        "df['Label']"
      ]
    },
    {
      "cell_type": "code",
      "execution_count": null,
      "metadata": {
        "id": "iHpLTcsgoXbC"
      },
      "outputs": [],
      "source": [
        "df['Class'] = le.fit_transform(df['Class'])"
      ]
    },
    {
      "cell_type": "code",
      "execution_count": null,
      "metadata": {
        "colab": {
          "base_uri": "https://localhost:8080/"
        },
        "id": "4S5J08OKogvF",
        "outputId": "1dac5af0-1d09-49c6-f452-e91d192ff072"
      },
      "outputs": [
        {
          "data": {
            "text/plain": [
              "0         0\n",
              "1         0\n",
              "2         0\n",
              "3         0\n",
              "4         0\n",
              "         ..\n",
              "431366    1\n",
              "431367    1\n",
              "431368    1\n",
              "431369    1\n",
              "431370    1\n",
              "Name: Class, Length: 431371, dtype: int64"
            ]
          },
          "execution_count": 120,
          "metadata": {},
          "output_type": "execute_result"
        }
      ],
      "source": [
        "df['Class']"
      ]
    },
    {
      "cell_type": "code",
      "execution_count": null,
      "metadata": {
        "colab": {
          "base_uri": "https://localhost:8080/"
        },
        "id": "ghnPQsotoiqA",
        "outputId": "55ecf64e-7572-4cf7-f952-5c122d3f3ef9"
      },
      "outputs": [
        {
          "name": "stdout",
          "output_type": "stream",
          "text": [
            "<class 'pandas.core.frame.DataFrame'>\n",
            "RangeIndex: 431371 entries, 0 to 431370\n",
            "Data columns (total 80 columns):\n",
            " #   Column                    Non-Null Count   Dtype  \n",
            "---  ------                    --------------   -----  \n",
            " 0   Unnamed: 0                431371 non-null  int64  \n",
            " 1   Protocol                  431371 non-null  int64  \n",
            " 2   Flow Duration             431371 non-null  int64  \n",
            " 3   Total Fwd Packets         431371 non-null  int64  \n",
            " 4   Total Backward Packets    431371 non-null  int64  \n",
            " 5   Fwd Packets Length Total  431371 non-null  float64\n",
            " 6   Bwd Packets Length Total  431371 non-null  float64\n",
            " 7   Fwd Packet Length Max     431371 non-null  float64\n",
            " 8   Fwd Packet Length Min     431371 non-null  float64\n",
            " 9   Fwd Packet Length Mean    431371 non-null  float64\n",
            " 10  Fwd Packet Length Std     431371 non-null  float64\n",
            " 11  Bwd Packet Length Max     431371 non-null  float64\n",
            " 12  Bwd Packet Length Min     431371 non-null  float64\n",
            " 13  Bwd Packet Length Mean    431371 non-null  float64\n",
            " 14  Bwd Packet Length Std     431371 non-null  float64\n",
            " 15  Flow Bytes/s              431371 non-null  float64\n",
            " 16  Flow Packets/s            431371 non-null  float64\n",
            " 17  Flow IAT Mean             431371 non-null  float64\n",
            " 18  Flow IAT Std              431371 non-null  float64\n",
            " 19  Flow IAT Max              431371 non-null  float64\n",
            " 20  Flow IAT Min              431371 non-null  float64\n",
            " 21  Fwd IAT Total             431371 non-null  float64\n",
            " 22  Fwd IAT Mean              431371 non-null  float64\n",
            " 23  Fwd IAT Std               431371 non-null  float64\n",
            " 24  Fwd IAT Max               431371 non-null  float64\n",
            " 25  Fwd IAT Min               431371 non-null  float64\n",
            " 26  Bwd IAT Total             431371 non-null  float64\n",
            " 27  Bwd IAT Mean              431371 non-null  float64\n",
            " 28  Bwd IAT Std               431371 non-null  float64\n",
            " 29  Bwd IAT Max               431371 non-null  float64\n",
            " 30  Bwd IAT Min               431371 non-null  float64\n",
            " 31  Fwd PSH Flags             431371 non-null  int64  \n",
            " 32  Bwd PSH Flags             431371 non-null  int64  \n",
            " 33  Fwd URG Flags             431371 non-null  int64  \n",
            " 34  Bwd URG Flags             431371 non-null  int64  \n",
            " 35  Fwd Header Length         431371 non-null  int64  \n",
            " 36  Bwd Header Length         431371 non-null  int64  \n",
            " 37  Fwd Packets/s             431371 non-null  float64\n",
            " 38  Bwd Packets/s             431371 non-null  float64\n",
            " 39  Packet Length Min         431371 non-null  float64\n",
            " 40  Packet Length Max         431371 non-null  float64\n",
            " 41  Packet Length Mean        431371 non-null  float64\n",
            " 42  Packet Length Std         431371 non-null  float64\n",
            " 43  Packet Length Variance    431371 non-null  float64\n",
            " 44  FIN Flag Count            431371 non-null  int64  \n",
            " 45  SYN Flag Count            431371 non-null  int64  \n",
            " 46  RST Flag Count            431371 non-null  int64  \n",
            " 47  PSH Flag Count            431371 non-null  int64  \n",
            " 48  ACK Flag Count            431371 non-null  int64  \n",
            " 49  URG Flag Count            431371 non-null  int64  \n",
            " 50  CWE Flag Count            431371 non-null  int64  \n",
            " 51  ECE Flag Count            431371 non-null  int64  \n",
            " 52  Down/Up Ratio             431371 non-null  float64\n",
            " 53  Avg Packet Size           431371 non-null  float64\n",
            " 54  Avg Fwd Segment Size      431371 non-null  float64\n",
            " 55  Avg Bwd Segment Size      431371 non-null  float64\n",
            " 56  Fwd Avg Bytes/Bulk        431371 non-null  int64  \n",
            " 57  Fwd Avg Packets/Bulk      431371 non-null  int64  \n",
            " 58  Fwd Avg Bulk Rate         431371 non-null  int64  \n",
            " 59  Bwd Avg Bytes/Bulk        431371 non-null  int64  \n",
            " 60  Bwd Avg Packets/Bulk      431371 non-null  int64  \n",
            " 61  Bwd Avg Bulk Rate         431371 non-null  int64  \n",
            " 62  Subflow Fwd Packets       431371 non-null  int64  \n",
            " 63  Subflow Fwd Bytes         431371 non-null  int64  \n",
            " 64  Subflow Bwd Packets       431371 non-null  int64  \n",
            " 65  Subflow Bwd Bytes         431371 non-null  int64  \n",
            " 66  Init Fwd Win Bytes        431371 non-null  int64  \n",
            " 67  Init Bwd Win Bytes        431371 non-null  int64  \n",
            " 68  Fwd Act Data Packets      431371 non-null  int64  \n",
            " 69  Fwd Seg Size Min          431371 non-null  int64  \n",
            " 70  Active Mean               431371 non-null  float64\n",
            " 71  Active Std                431371 non-null  float64\n",
            " 72  Active Max                431371 non-null  float64\n",
            " 73  Active Min                431371 non-null  float64\n",
            " 74  Idle Mean                 431371 non-null  float64\n",
            " 75  Idle Std                  431371 non-null  float64\n",
            " 76  Idle Max                  431371 non-null  float64\n",
            " 77  Idle Min                  431371 non-null  float64\n",
            " 78  Label                     431371 non-null  int64  \n",
            " 79  Class                     431371 non-null  int64  \n",
            "dtypes: float64(45), int64(35)\n",
            "memory usage: 263.3 MB\n"
          ]
        }
      ],
      "source": [
        "df.info()"
      ]
    },
    {
      "cell_type": "code",
      "execution_count": null,
      "metadata": {
        "colab": {
          "base_uri": "https://localhost:8080/"
        },
        "id": "OERfBuKfpjRw",
        "outputId": "efdead39-916c-4803-8ae3-abdf3b111cca"
      },
      "outputs": [
        {
          "data": {
            "text/plain": [
              "Unnamed: 0                0\n",
              "Protocol                  0\n",
              "Flow Duration             0\n",
              "Total Fwd Packets         0\n",
              "Total Backward Packets    0\n",
              "                         ..\n",
              "Idle Std                  0\n",
              "Idle Max                  0\n",
              "Idle Min                  0\n",
              "Label                     0\n",
              "Class                     0\n",
              "Length: 80, dtype: int64"
            ]
          },
          "execution_count": 122,
          "metadata": {},
          "output_type": "execute_result"
        }
      ],
      "source": [
        "df.isna().sum()"
      ]
    },
    {
      "cell_type": "code",
      "execution_count": null,
      "metadata": {
        "id": "vNF_ag21pIOY"
      },
      "outputs": [],
      "source": [
        "df = df.fillna(df.mean())"
      ]
    },
    {
      "cell_type": "code",
      "execution_count": null,
      "metadata": {
        "colab": {
          "base_uri": "https://localhost:8080/",
          "height": 428
        },
        "id": "hsgDQkOqpuqq",
        "outputId": "87aa06d6-6dd6-47de-a63b-ec7095dd74f6"
      },
      "outputs": [
        {
          "data": {
            "text/html": [
              "\n",
              "  <div id=\"df-0f10cfe9-85ac-4f58-a7cf-358dbc3a5ff2\">\n",
              "    <div class=\"colab-df-container\">\n",
              "      <div>\n",
              "<style scoped>\n",
              "    .dataframe tbody tr th:only-of-type {\n",
              "        vertical-align: middle;\n",
              "    }\n",
              "\n",
              "    .dataframe tbody tr th {\n",
              "        vertical-align: top;\n",
              "    }\n",
              "\n",
              "    .dataframe thead th {\n",
              "        text-align: right;\n",
              "    }\n",
              "</style>\n",
              "<table border=\"1\" class=\"dataframe\">\n",
              "  <thead>\n",
              "    <tr style=\"text-align: right;\">\n",
              "      <th></th>\n",
              "      <th>Unnamed: 0</th>\n",
              "      <th>Protocol</th>\n",
              "      <th>Flow Duration</th>\n",
              "      <th>Total Fwd Packets</th>\n",
              "      <th>Total Backward Packets</th>\n",
              "      <th>Fwd Packets Length Total</th>\n",
              "      <th>Bwd Packets Length Total</th>\n",
              "      <th>Fwd Packet Length Max</th>\n",
              "      <th>Fwd Packet Length Min</th>\n",
              "      <th>Fwd Packet Length Mean</th>\n",
              "      <th>...</th>\n",
              "      <th>Active Mean</th>\n",
              "      <th>Active Std</th>\n",
              "      <th>Active Max</th>\n",
              "      <th>Active Min</th>\n",
              "      <th>Idle Mean</th>\n",
              "      <th>Idle Std</th>\n",
              "      <th>Idle Max</th>\n",
              "      <th>Idle Min</th>\n",
              "      <th>Label</th>\n",
              "      <th>Class</th>\n",
              "    </tr>\n",
              "  </thead>\n",
              "  <tbody>\n",
              "    <tr>\n",
              "      <th>count</th>\n",
              "      <td>431371.000000</td>\n",
              "      <td>431371.000000</td>\n",
              "      <td>4.313710e+05</td>\n",
              "      <td>431371.000000</td>\n",
              "      <td>431371.000000</td>\n",
              "      <td>4.313710e+05</td>\n",
              "      <td>4.313710e+05</td>\n",
              "      <td>431371.000000</td>\n",
              "      <td>431371.000000</td>\n",
              "      <td>431371.000000</td>\n",
              "      <td>...</td>\n",
              "      <td>4.313710e+05</td>\n",
              "      <td>4.313710e+05</td>\n",
              "      <td>4.313710e+05</td>\n",
              "      <td>4.313710e+05</td>\n",
              "      <td>4.313710e+05</td>\n",
              "      <td>4.313710e+05</td>\n",
              "      <td>4.313710e+05</td>\n",
              "      <td>4.313710e+05</td>\n",
              "      <td>431371.000000</td>\n",
              "      <td>431371.000000</td>\n",
              "    </tr>\n",
              "    <tr>\n",
              "      <th>mean</th>\n",
              "      <td>126835.311055</td>\n",
              "      <td>13.948694</td>\n",
              "      <td>8.404856e+06</td>\n",
              "      <td>24.139117</td>\n",
              "      <td>2.472021</td>\n",
              "      <td>9.416956e+03</td>\n",
              "      <td>1.632896e+03</td>\n",
              "      <td>357.483674</td>\n",
              "      <td>294.721646</td>\n",
              "      <td>324.915327</td>\n",
              "      <td>...</td>\n",
              "      <td>3.370905e+04</td>\n",
              "      <td>2.563697e+04</td>\n",
              "      <td>6.757181e+04</td>\n",
              "      <td>1.868363e+04</td>\n",
              "      <td>2.449924e+06</td>\n",
              "      <td>4.983262e+05</td>\n",
              "      <td>2.971142e+06</td>\n",
              "      <td>1.993859e+06</td>\n",
              "      <td>6.897318</td>\n",
              "      <td>0.226791</td>\n",
              "    </tr>\n",
              "    <tr>\n",
              "      <th>std</th>\n",
              "      <td>87249.615423</td>\n",
              "      <td>4.966712</td>\n",
              "      <td>2.126596e+07</td>\n",
              "      <td>195.888896</td>\n",
              "      <td>56.370208</td>\n",
              "      <td>3.445253e+04</td>\n",
              "      <td>1.064056e+05</td>\n",
              "      <td>320.025929</td>\n",
              "      <td>273.298705</td>\n",
              "      <td>268.577313</td>\n",
              "      <td>...</td>\n",
              "      <td>3.223119e+05</td>\n",
              "      <td>2.226543e+05</td>\n",
              "      <td>5.183739e+05</td>\n",
              "      <td>2.832011e+05</td>\n",
              "      <td>7.914010e+06</td>\n",
              "      <td>2.005164e+06</td>\n",
              "      <td>9.045327e+06</td>\n",
              "      <td>7.245561e+06</td>\n",
              "      <td>5.375729</td>\n",
              "      <td>0.418757</td>\n",
              "    </tr>\n",
              "    <tr>\n",
              "      <th>min</th>\n",
              "      <td>0.000000</td>\n",
              "      <td>0.000000</td>\n",
              "      <td>1.000000e+00</td>\n",
              "      <td>1.000000</td>\n",
              "      <td>0.000000</td>\n",
              "      <td>0.000000e+00</td>\n",
              "      <td>0.000000e+00</td>\n",
              "      <td>0.000000</td>\n",
              "      <td>0.000000</td>\n",
              "      <td>0.000000</td>\n",
              "      <td>...</td>\n",
              "      <td>0.000000e+00</td>\n",
              "      <td>0.000000e+00</td>\n",
              "      <td>0.000000e+00</td>\n",
              "      <td>0.000000e+00</td>\n",
              "      <td>0.000000e+00</td>\n",
              "      <td>0.000000e+00</td>\n",
              "      <td>0.000000e+00</td>\n",
              "      <td>0.000000e+00</td>\n",
              "      <td>0.000000</td>\n",
              "      <td>0.000000</td>\n",
              "    </tr>\n",
              "    <tr>\n",
              "      <th>25%</th>\n",
              "      <td>53921.000000</td>\n",
              "      <td>6.000000</td>\n",
              "      <td>7.870000e+02</td>\n",
              "      <td>4.000000</td>\n",
              "      <td>0.000000</td>\n",
              "      <td>7.800000e+01</td>\n",
              "      <td>0.000000e+00</td>\n",
              "      <td>37.000000</td>\n",
              "      <td>6.000000</td>\n",
              "      <td>32.000000</td>\n",
              "      <td>...</td>\n",
              "      <td>0.000000e+00</td>\n",
              "      <td>0.000000e+00</td>\n",
              "      <td>0.000000e+00</td>\n",
              "      <td>0.000000e+00</td>\n",
              "      <td>0.000000e+00</td>\n",
              "      <td>0.000000e+00</td>\n",
              "      <td>0.000000e+00</td>\n",
              "      <td>0.000000e+00</td>\n",
              "      <td>3.000000</td>\n",
              "      <td>0.000000</td>\n",
              "    </tr>\n",
              "    <tr>\n",
              "      <th>50%</th>\n",
              "      <td>107842.000000</td>\n",
              "      <td>17.000000</td>\n",
              "      <td>4.480400e+04</td>\n",
              "      <td>4.000000</td>\n",
              "      <td>0.000000</td>\n",
              "      <td>2.064000e+03</td>\n",
              "      <td>0.000000e+00</td>\n",
              "      <td>440.000000</td>\n",
              "      <td>330.000000</td>\n",
              "      <td>428.000000</td>\n",
              "      <td>...</td>\n",
              "      <td>0.000000e+00</td>\n",
              "      <td>0.000000e+00</td>\n",
              "      <td>0.000000e+00</td>\n",
              "      <td>0.000000e+00</td>\n",
              "      <td>0.000000e+00</td>\n",
              "      <td>0.000000e+00</td>\n",
              "      <td>0.000000e+00</td>\n",
              "      <td>0.000000e+00</td>\n",
              "      <td>4.000000</td>\n",
              "      <td>0.000000</td>\n",
              "    </tr>\n",
              "    <tr>\n",
              "      <th>75%</th>\n",
              "      <td>198357.500000</td>\n",
              "      <td>17.000000</td>\n",
              "      <td>3.002508e+06</td>\n",
              "      <td>16.000000</td>\n",
              "      <td>2.000000</td>\n",
              "      <td>5.160000e+03</td>\n",
              "      <td>0.000000e+00</td>\n",
              "      <td>516.000000</td>\n",
              "      <td>516.000000</td>\n",
              "      <td>516.000000</td>\n",
              "      <td>...</td>\n",
              "      <td>0.000000e+00</td>\n",
              "      <td>0.000000e+00</td>\n",
              "      <td>0.000000e+00</td>\n",
              "      <td>0.000000e+00</td>\n",
              "      <td>0.000000e+00</td>\n",
              "      <td>0.000000e+00</td>\n",
              "      <td>0.000000e+00</td>\n",
              "      <td>0.000000e+00</td>\n",
              "      <td>13.000000</td>\n",
              "      <td>0.000000</td>\n",
              "    </tr>\n",
              "    <tr>\n",
              "      <th>max</th>\n",
              "      <td>306200.000000</td>\n",
              "      <td>17.000000</td>\n",
              "      <td>1.199987e+08</td>\n",
              "      <td>86666.000000</td>\n",
              "      <td>31700.000000</td>\n",
              "      <td>1.526642e+07</td>\n",
              "      <td>5.842950e+07</td>\n",
              "      <td>32120.000000</td>\n",
              "      <td>2131.000000</td>\n",
              "      <td>3015.290500</td>\n",
              "      <td>...</td>\n",
              "      <td>4.050800e+07</td>\n",
              "      <td>2.135244e+07</td>\n",
              "      <td>4.553668e+07</td>\n",
              "      <td>4.050800e+07</td>\n",
              "      <td>1.192194e+08</td>\n",
              "      <td>6.961402e+07</td>\n",
              "      <td>1.192194e+08</td>\n",
              "      <td>1.192194e+08</td>\n",
              "      <td>17.000000</td>\n",
              "      <td>1.000000</td>\n",
              "    </tr>\n",
              "  </tbody>\n",
              "</table>\n",
              "<p>8 rows × 80 columns</p>\n",
              "</div>\n",
              "      <button class=\"colab-df-convert\" onclick=\"convertToInteractive('df-0f10cfe9-85ac-4f58-a7cf-358dbc3a5ff2')\"\n",
              "              title=\"Convert this dataframe to an interactive table.\"\n",
              "              style=\"display:none;\">\n",
              "        \n",
              "  <svg xmlns=\"http://www.w3.org/2000/svg\" height=\"24px\"viewBox=\"0 0 24 24\"\n",
              "       width=\"24px\">\n",
              "    <path d=\"M0 0h24v24H0V0z\" fill=\"none\"/>\n",
              "    <path d=\"M18.56 5.44l.94 2.06.94-2.06 2.06-.94-2.06-.94-.94-2.06-.94 2.06-2.06.94zm-11 1L8.5 8.5l.94-2.06 2.06-.94-2.06-.94L8.5 2.5l-.94 2.06-2.06.94zm10 10l.94 2.06.94-2.06 2.06-.94-2.06-.94-.94-2.06-.94 2.06-2.06.94z\"/><path d=\"M17.41 7.96l-1.37-1.37c-.4-.4-.92-.59-1.43-.59-.52 0-1.04.2-1.43.59L10.3 9.45l-7.72 7.72c-.78.78-.78 2.05 0 2.83L4 21.41c.39.39.9.59 1.41.59.51 0 1.02-.2 1.41-.59l7.78-7.78 2.81-2.81c.8-.78.8-2.07 0-2.86zM5.41 20L4 18.59l7.72-7.72 1.47 1.35L5.41 20z\"/>\n",
              "  </svg>\n",
              "      </button>\n",
              "      \n",
              "  <style>\n",
              "    .colab-df-container {\n",
              "      display:flex;\n",
              "      flex-wrap:wrap;\n",
              "      gap: 12px;\n",
              "    }\n",
              "\n",
              "    .colab-df-convert {\n",
              "      background-color: #E8F0FE;\n",
              "      border: none;\n",
              "      border-radius: 50%;\n",
              "      cursor: pointer;\n",
              "      display: none;\n",
              "      fill: #1967D2;\n",
              "      height: 32px;\n",
              "      padding: 0 0 0 0;\n",
              "      width: 32px;\n",
              "    }\n",
              "\n",
              "    .colab-df-convert:hover {\n",
              "      background-color: #E2EBFA;\n",
              "      box-shadow: 0px 1px 2px rgba(60, 64, 67, 0.3), 0px 1px 3px 1px rgba(60, 64, 67, 0.15);\n",
              "      fill: #174EA6;\n",
              "    }\n",
              "\n",
              "    [theme=dark] .colab-df-convert {\n",
              "      background-color: #3B4455;\n",
              "      fill: #D2E3FC;\n",
              "    }\n",
              "\n",
              "    [theme=dark] .colab-df-convert:hover {\n",
              "      background-color: #434B5C;\n",
              "      box-shadow: 0px 1px 3px 1px rgba(0, 0, 0, 0.15);\n",
              "      filter: drop-shadow(0px 1px 2px rgba(0, 0, 0, 0.3));\n",
              "      fill: #FFFFFF;\n",
              "    }\n",
              "  </style>\n",
              "\n",
              "      <script>\n",
              "        const buttonEl =\n",
              "          document.querySelector('#df-0f10cfe9-85ac-4f58-a7cf-358dbc3a5ff2 button.colab-df-convert');\n",
              "        buttonEl.style.display =\n",
              "          google.colab.kernel.accessAllowed ? 'block' : 'none';\n",
              "\n",
              "        async function convertToInteractive(key) {\n",
              "          const element = document.querySelector('#df-0f10cfe9-85ac-4f58-a7cf-358dbc3a5ff2');\n",
              "          const dataTable =\n",
              "            await google.colab.kernel.invokeFunction('convertToInteractive',\n",
              "                                                     [key], {});\n",
              "          if (!dataTable) return;\n",
              "\n",
              "          const docLinkHtml = 'Like what you see? Visit the ' +\n",
              "            '<a target=\"_blank\" href=https://colab.research.google.com/notebooks/data_table.ipynb>data table notebook</a>'\n",
              "            + ' to learn more about interactive tables.';\n",
              "          element.innerHTML = '';\n",
              "          dataTable['output_type'] = 'display_data';\n",
              "          await google.colab.output.renderOutput(dataTable, element);\n",
              "          const docLink = document.createElement('div');\n",
              "          docLink.innerHTML = docLinkHtml;\n",
              "          element.appendChild(docLink);\n",
              "        }\n",
              "      </script>\n",
              "    </div>\n",
              "  </div>\n",
              "  "
            ],
            "text/plain": [
              "          Unnamed: 0       Protocol  Flow Duration  Total Fwd Packets  \\\n",
              "count  431371.000000  431371.000000   4.313710e+05      431371.000000   \n",
              "mean   126835.311055      13.948694   8.404856e+06          24.139117   \n",
              "std     87249.615423       4.966712   2.126596e+07         195.888896   \n",
              "min         0.000000       0.000000   1.000000e+00           1.000000   \n",
              "25%     53921.000000       6.000000   7.870000e+02           4.000000   \n",
              "50%    107842.000000      17.000000   4.480400e+04           4.000000   \n",
              "75%    198357.500000      17.000000   3.002508e+06          16.000000   \n",
              "max    306200.000000      17.000000   1.199987e+08       86666.000000   \n",
              "\n",
              "       Total Backward Packets  Fwd Packets Length Total  \\\n",
              "count           431371.000000              4.313710e+05   \n",
              "mean                 2.472021              9.416956e+03   \n",
              "std                 56.370208              3.445253e+04   \n",
              "min                  0.000000              0.000000e+00   \n",
              "25%                  0.000000              7.800000e+01   \n",
              "50%                  0.000000              2.064000e+03   \n",
              "75%                  2.000000              5.160000e+03   \n",
              "max              31700.000000              1.526642e+07   \n",
              "\n",
              "       Bwd Packets Length Total  Fwd Packet Length Max  Fwd Packet Length Min  \\\n",
              "count              4.313710e+05          431371.000000          431371.000000   \n",
              "mean               1.632896e+03             357.483674             294.721646   \n",
              "std                1.064056e+05             320.025929             273.298705   \n",
              "min                0.000000e+00               0.000000               0.000000   \n",
              "25%                0.000000e+00              37.000000               6.000000   \n",
              "50%                0.000000e+00             440.000000             330.000000   \n",
              "75%                0.000000e+00             516.000000             516.000000   \n",
              "max                5.842950e+07           32120.000000            2131.000000   \n",
              "\n",
              "       Fwd Packet Length Mean  ...   Active Mean    Active Std    Active Max  \\\n",
              "count           431371.000000  ...  4.313710e+05  4.313710e+05  4.313710e+05   \n",
              "mean               324.915327  ...  3.370905e+04  2.563697e+04  6.757181e+04   \n",
              "std                268.577313  ...  3.223119e+05  2.226543e+05  5.183739e+05   \n",
              "min                  0.000000  ...  0.000000e+00  0.000000e+00  0.000000e+00   \n",
              "25%                 32.000000  ...  0.000000e+00  0.000000e+00  0.000000e+00   \n",
              "50%                428.000000  ...  0.000000e+00  0.000000e+00  0.000000e+00   \n",
              "75%                516.000000  ...  0.000000e+00  0.000000e+00  0.000000e+00   \n",
              "max               3015.290500  ...  4.050800e+07  2.135244e+07  4.553668e+07   \n",
              "\n",
              "         Active Min     Idle Mean      Idle Std      Idle Max      Idle Min  \\\n",
              "count  4.313710e+05  4.313710e+05  4.313710e+05  4.313710e+05  4.313710e+05   \n",
              "mean   1.868363e+04  2.449924e+06  4.983262e+05  2.971142e+06  1.993859e+06   \n",
              "std    2.832011e+05  7.914010e+06  2.005164e+06  9.045327e+06  7.245561e+06   \n",
              "min    0.000000e+00  0.000000e+00  0.000000e+00  0.000000e+00  0.000000e+00   \n",
              "25%    0.000000e+00  0.000000e+00  0.000000e+00  0.000000e+00  0.000000e+00   \n",
              "50%    0.000000e+00  0.000000e+00  0.000000e+00  0.000000e+00  0.000000e+00   \n",
              "75%    0.000000e+00  0.000000e+00  0.000000e+00  0.000000e+00  0.000000e+00   \n",
              "max    4.050800e+07  1.192194e+08  6.961402e+07  1.192194e+08  1.192194e+08   \n",
              "\n",
              "               Label          Class  \n",
              "count  431371.000000  431371.000000  \n",
              "mean        6.897318       0.226791  \n",
              "std         5.375729       0.418757  \n",
              "min         0.000000       0.000000  \n",
              "25%         3.000000       0.000000  \n",
              "50%         4.000000       0.000000  \n",
              "75%        13.000000       0.000000  \n",
              "max        17.000000       1.000000  \n",
              "\n",
              "[8 rows x 80 columns]"
            ]
          },
          "execution_count": 124,
          "metadata": {},
          "output_type": "execute_result"
        }
      ],
      "source": [
        "df.describe()"
      ]
    },
    {
      "cell_type": "code",
      "execution_count": null,
      "metadata": {
        "id": "gZ0W94nxri74"
      },
      "outputs": [],
      "source": [
        "X = df.drop(['Label','Class'],axis=1)"
      ]
    },
    {
      "cell_type": "code",
      "execution_count": null,
      "metadata": {
        "id": "GczANhkkuqge"
      },
      "outputs": [],
      "source": [
        "y = df['Class']"
      ]
    },
    {
      "cell_type": "code",
      "execution_count": null,
      "metadata": {
        "id": "V32LfKuHu1r3"
      },
      "outputs": [],
      "source": [
        "from sklearn.preprocessing import StandardScaler\n",
        "\n",
        "scaler = StandardScaler()\n",
        "X = scaler.fit_transform(X)"
      ]
    },
    {
      "cell_type": "code",
      "execution_count": null,
      "metadata": {
        "colab": {
          "base_uri": "https://localhost:8080/"
        },
        "id": "f_JkPyyeu4hk",
        "outputId": "a478b98a-f7aa-4ee8-afbd-35f39b0f87d6"
      },
      "outputs": [
        {
          "data": {
            "text/plain": [
              "((345096, 78), (86275, 78), (345096,), (86275,))"
            ]
          },
          "execution_count": 129,
          "metadata": {},
          "output_type": "execute_result"
        }
      ],
      "source": [
        "from sklearn.model_selection import train_test_split\n",
        "\n",
        "X_train, X_test, y_train, y_test = train_test_split(X, y, test_size = 0.2, stratify = y, random_state = 0)\n",
        "\n",
        "X_train.shape, X_test.shape, y_train.shape, y_test.shape"
      ]
    },
    {
      "cell_type": "markdown",
      "metadata": {
        "id": "ZXIpAmUxwUHW"
      },
      "source": [
        "### svm"
      ]
    },
    {
      "cell_type": "code",
      "execution_count": null,
      "metadata": {
        "id": "g1NEIhrbu7xi"
      },
      "outputs": [],
      "source": [
        "from sklearn import svm"
      ]
    },
    {
      "cell_type": "code",
      "execution_count": null,
      "metadata": {
        "id": "zQp0c4RJvCkr"
      },
      "outputs": [],
      "source": [
        "clf = svm.SVC()"
      ]
    },
    {
      "cell_type": "code",
      "execution_count": null,
      "metadata": {
        "colab": {
          "background_save": true
        },
        "id": "rRTUH0zKvFNM",
        "outputId": "b91104eb-2c1b-4c81-9ebc-89b1c8367a18"
      },
      "outputs": [
        {
          "data": {
            "text/html": [
              "<style>#sk-container-id-1 {color: black;background-color: white;}#sk-container-id-1 pre{padding: 0;}#sk-container-id-1 div.sk-toggleable {background-color: white;}#sk-container-id-1 label.sk-toggleable__label {cursor: pointer;display: block;width: 100%;margin-bottom: 0;padding: 0.3em;box-sizing: border-box;text-align: center;}#sk-container-id-1 label.sk-toggleable__label-arrow:before {content: \"▸\";float: left;margin-right: 0.25em;color: #696969;}#sk-container-id-1 label.sk-toggleable__label-arrow:hover:before {color: black;}#sk-container-id-1 div.sk-estimator:hover label.sk-toggleable__label-arrow:before {color: black;}#sk-container-id-1 div.sk-toggleable__content {max-height: 0;max-width: 0;overflow: hidden;text-align: left;background-color: #f0f8ff;}#sk-container-id-1 div.sk-toggleable__content pre {margin: 0.2em;color: black;border-radius: 0.25em;background-color: #f0f8ff;}#sk-container-id-1 input.sk-toggleable__control:checked~div.sk-toggleable__content {max-height: 200px;max-width: 100%;overflow: auto;}#sk-container-id-1 input.sk-toggleable__control:checked~label.sk-toggleable__label-arrow:before {content: \"▾\";}#sk-container-id-1 div.sk-estimator input.sk-toggleable__control:checked~label.sk-toggleable__label {background-color: #d4ebff;}#sk-container-id-1 div.sk-label input.sk-toggleable__control:checked~label.sk-toggleable__label {background-color: #d4ebff;}#sk-container-id-1 input.sk-hidden--visually {border: 0;clip: rect(1px 1px 1px 1px);clip: rect(1px, 1px, 1px, 1px);height: 1px;margin: -1px;overflow: hidden;padding: 0;position: absolute;width: 1px;}#sk-container-id-1 div.sk-estimator {font-family: monospace;background-color: #f0f8ff;border: 1px dotted black;border-radius: 0.25em;box-sizing: border-box;margin-bottom: 0.5em;}#sk-container-id-1 div.sk-estimator:hover {background-color: #d4ebff;}#sk-container-id-1 div.sk-parallel-item::after {content: \"\";width: 100%;border-bottom: 1px solid gray;flex-grow: 1;}#sk-container-id-1 div.sk-label:hover label.sk-toggleable__label {background-color: #d4ebff;}#sk-container-id-1 div.sk-serial::before {content: \"\";position: absolute;border-left: 1px solid gray;box-sizing: border-box;top: 0;bottom: 0;left: 50%;z-index: 0;}#sk-container-id-1 div.sk-serial {display: flex;flex-direction: column;align-items: center;background-color: white;padding-right: 0.2em;padding-left: 0.2em;position: relative;}#sk-container-id-1 div.sk-item {position: relative;z-index: 1;}#sk-container-id-1 div.sk-parallel {display: flex;align-items: stretch;justify-content: center;background-color: white;position: relative;}#sk-container-id-1 div.sk-item::before, #sk-container-id-1 div.sk-parallel-item::before {content: \"\";position: absolute;border-left: 1px solid gray;box-sizing: border-box;top: 0;bottom: 0;left: 50%;z-index: -1;}#sk-container-id-1 div.sk-parallel-item {display: flex;flex-direction: column;z-index: 1;position: relative;background-color: white;}#sk-container-id-1 div.sk-parallel-item:first-child::after {align-self: flex-end;width: 50%;}#sk-container-id-1 div.sk-parallel-item:last-child::after {align-self: flex-start;width: 50%;}#sk-container-id-1 div.sk-parallel-item:only-child::after {width: 0;}#sk-container-id-1 div.sk-dashed-wrapped {border: 1px dashed gray;margin: 0 0.4em 0.5em 0.4em;box-sizing: border-box;padding-bottom: 0.4em;background-color: white;}#sk-container-id-1 div.sk-label label {font-family: monospace;font-weight: bold;display: inline-block;line-height: 1.2em;}#sk-container-id-1 div.sk-label-container {text-align: center;}#sk-container-id-1 div.sk-container {/* jupyter's `normalize.less` sets `[hidden] { display: none; }` but bootstrap.min.css set `[hidden] { display: none !important; }` so we also need the `!important` here to be able to override the default hidden behavior on the sphinx rendered scikit-learn.org. See: https://github.com/scikit-learn/scikit-learn/issues/21755 */display: inline-block !important;position: relative;}#sk-container-id-1 div.sk-text-repr-fallback {display: none;}</style><div id=\"sk-container-id-1\" class=\"sk-top-container\"><div class=\"sk-text-repr-fallback\"><pre>SVC()</pre><b>In a Jupyter environment, please rerun this cell to show the HTML representation or trust the notebook. <br />On GitHub, the HTML representation is unable to render, please try loading this page with nbviewer.org.</b></div><div class=\"sk-container\" hidden><div class=\"sk-item\"><div class=\"sk-estimator sk-toggleable\"><input class=\"sk-toggleable__control sk-hidden--visually\" id=\"sk-estimator-id-1\" type=\"checkbox\" checked><label for=\"sk-estimator-id-1\" class=\"sk-toggleable__label sk-toggleable__label-arrow\">SVC</label><div class=\"sk-toggleable__content\"><pre>SVC()</pre></div></div></div></div></div>"
            ],
            "text/plain": [
              "SVC()"
            ]
          },
          "execution_count": 132,
          "metadata": {},
          "output_type": "execute_result"
        }
      ],
      "source": [
        "clf.fit(X,y)"
      ]
    },
    {
      "cell_type": "code",
      "execution_count": null,
      "metadata": {
        "colab": {
          "background_save": true
        },
        "id": "7MZqGHuAvHS2"
      },
      "outputs": [],
      "source": [
        "y_pred = clf.predict(X_test)"
      ]
    },
    {
      "cell_type": "code",
      "execution_count": null,
      "metadata": {
        "colab": {
          "background_save": true
        },
        "id": "Waca1DL_vKIX"
      },
      "outputs": [],
      "source": [
        "from sklearn.metrics import classification_report"
      ]
    },
    {
      "cell_type": "code",
      "execution_count": null,
      "metadata": {
        "colab": {
          "background_save": true
        },
        "id": "o_gMz2BvvRiJ",
        "outputId": "f717382d-587e-4663-8bad-893b1e1d9796"
      },
      "outputs": [
        {
          "ename": "NameError",
          "evalue": "ignored",
          "output_type": "error",
          "traceback": [
            "\u001b[0;31m---------------------------------------------------------------------------\u001b[0m",
            "\u001b[0;31mNameError\u001b[0m                                 Traceback (most recent call last)",
            "\u001b[0;32m<ipython-input-134-e7622b950e3d>\u001b[0m in \u001b[0;36m<module>\u001b[0;34m\u001b[0m\n\u001b[0;32m----> 1\u001b[0;31m \u001b[0mprint\u001b[0m\u001b[0;34m(\u001b[0m\u001b[0mclassification_report\u001b[0m\u001b[0;34m(\u001b[0m\u001b[0my_test\u001b[0m\u001b[0;34m,\u001b[0m \u001b[0my_pred\u001b[0m\u001b[0;34m)\u001b[0m\u001b[0;34m)\u001b[0m\u001b[0;34m\u001b[0m\u001b[0;34m\u001b[0m\u001b[0m\n\u001b[0m",
            "\u001b[0;31mNameError\u001b[0m: name 'classification_report' is not defined"
          ]
        }
      ],
      "source": [
        "print(classification_report(y_test, y_pred))"
      ]
    },
    {
      "cell_type": "code",
      "execution_count": null,
      "metadata": {
        "id": "buHdZP3KvRpd"
      },
      "outputs": [],
      "source": [
        "import seaborn as sns\n",
        "from sklearn.metrics import confusion_matrix"
      ]
    },
    {
      "cell_type": "markdown",
      "metadata": {
        "id": "dwMq0TqzvfjX"
      },
      "source": [
        "### CNN"
      ]
    },
    {
      "cell_type": "code",
      "execution_count": null,
      "metadata": {
        "colab": {
          "background_save": true
        },
        "id": "GD3eCP0lvhzn"
      },
      "outputs": [],
      "source": [
        "import tensorflow as tf\n",
        "tf.__version__"
      ]
    },
    {
      "cell_type": "code",
      "execution_count": null,
      "metadata": {
        "id": "r0gBLor6vi1K"
      },
      "outputs": [],
      "source": [
        "model_1 = tf.keras.Sequential([\n",
        "           tf.keras.layers.Dense(3, activation='relu'),\n",
        "           tf.keras.layers.Dense(5, activation='relu'),\n",
        "           tf.keras.layers.Dense(3, activation='softmax')\n",
        "])"
      ]
    },
    {
      "cell_type": "code",
      "execution_count": null,
      "metadata": {
        "id": "-iQEavdmvpmd"
      },
      "outputs": [],
      "source": [
        "model_1.compile(loss=tf.keras.losses.CategoricalCrossentropy(),\n",
        "                 optimizer=tf.keras.optimizers.Adam(learning_rate=0.01),\n",
        "                 metrics=['accuracy'])"
      ]
    },
    {
      "cell_type": "code",
      "execution_count": null,
      "metadata": {
        "id": "3ih-EpOIvpgp"
      },
      "outputs": [],
      "source": [
        "history = model_1.fit(X_train,\n",
        "                      tf.one_hot(y_train, depth=3),\n",
        "                      epochs=100,\n",
        "                      verbose = 1)"
      ]
    },
    {
      "cell_type": "code",
      "execution_count": null,
      "metadata": {
        "id": "cACD6dJ0vvUO"
      },
      "outputs": [],
      "source": [
        "plt.plot(history.history['accuracy'], label='accuracy')\n",
        "plt.xlabel('Epoch')\n",
        "plt.ylabel('Accuracy')\n",
        "plt.ylim([0.0, 1.0])\n",
        "plt.legend(loc='lower right');"
      ]
    },
    {
      "cell_type": "code",
      "execution_count": null,
      "metadata": {
        "id": "EshlRbk5vvPn"
      },
      "outputs": [],
      "source": [
        "plt.plot(history.history['loss'], label='loss')\n",
        "plt.xlabel('Epoch')\n",
        "plt.ylabel('Loss')\n",
        "plt.ylim([0.0, 1])\n",
        "plt.legend(loc='upper right');"
      ]
    },
    {
      "cell_type": "code",
      "execution_count": null,
      "metadata": {
        "id": "J0gXF7HrvvLq",
        "colab": {
          "base_uri": "https://localhost:8080/",
          "height": 235
        },
        "outputId": "be089c16-e06d-49fa-ad31-c40cb0aa23a1"
      },
      "outputs": [
        {
          "output_type": "error",
          "ename": "NameError",
          "evalue": "ignored",
          "traceback": [
            "\u001b[0;31m---------------------------------------------------------------------------\u001b[0m",
            "\u001b[0;31mNameError\u001b[0m                                 Traceback (most recent call last)",
            "\u001b[0;32m<ipython-input-1-4c937369750d>\u001b[0m in \u001b[0;36m<cell line: 4>\u001b[0;34m()\u001b[0m\n\u001b[1;32m      2\u001b[0m \u001b[0;32mfrom\u001b[0m \u001b[0msklearn\u001b[0m\u001b[0;34m.\u001b[0m\u001b[0mmetrics\u001b[0m \u001b[0;32mimport\u001b[0m \u001b[0mconfusion_matrix\u001b[0m\u001b[0;34m\u001b[0m\u001b[0;34m\u001b[0m\u001b[0m\n\u001b[1;32m      3\u001b[0m \u001b[0;34m\u001b[0m\u001b[0m\n\u001b[0;32m----> 4\u001b[0;31m \u001b[0mplt\u001b[0m\u001b[0;34m.\u001b[0m\u001b[0mfigure\u001b[0m\u001b[0;34m(\u001b[0m\u001b[0mfigsize\u001b[0m\u001b[0;34m=\u001b[0m\u001b[0;34m(\u001b[0m\u001b[0;36m15\u001b[0m\u001b[0;34m,\u001b[0m \u001b[0;36m10\u001b[0m\u001b[0;34m)\u001b[0m\u001b[0;34m)\u001b[0m\u001b[0;34m\u001b[0m\u001b[0;34m\u001b[0m\u001b[0m\n\u001b[0m\u001b[1;32m      5\u001b[0m sns.heatmap(confusion_matrix(y_true=y_test,\n\u001b[1;32m      6\u001b[0m                  y_pred=model_1.predict(x_test).argmax(axis=1)), annot=True,\n",
            "\u001b[0;31mNameError\u001b[0m: name 'plt' is not defined"
          ]
        }
      ],
      "source": [
        "import seaborn as sns\n",
        "from sklearn.metrics import confusion_matrix\n",
        "\n",
        "plt.figure(figsize=(15, 10))\n",
        "sns.heatmap(confusion_matrix(y_true=y_test,\n",
        "                 y_pred=model_1.predict(X_test).argmax(axis=1)), annot=True,\n",
        "                 fmt=\"d\");"
      ]
    },
    {
      "cell_type": "code",
      "execution_count": null,
      "metadata": {
        "id": "Zr3zh9vFvvGD"
      },
      "outputs": [],
      "source": []
    }
  ],
  "metadata": {
    "colab": {
      "provenance": []
    },
    "kernelspec": {
      "display_name": "Python 3",
      "name": "python3"
    },
    "language_info": {
      "name": "python"
    }
  },
  "nbformat": 4,
  "nbformat_minor": 0
}